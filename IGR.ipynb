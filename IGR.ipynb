{
 "cells": [
  {
   "cell_type": "code",
   "execution_count": null,
   "id": "a411c90b-e7dc-4e38-b065-84425f6bdcd6",
   "metadata": {},
   "outputs": [
    {
     "name": "stdout",
     "output_type": "stream",
     "text": [
      "Requirement already satisfied: numpy in /opt/conda/lib/python3.7/site-packages (1.21.5)\n",
      "Requirement already satisfied: pyhocon in /opt/conda/lib/python3.7/site-packages (0.3.59)\n",
      "Requirement already satisfied: plotly in /opt/conda/lib/python3.7/site-packages (5.6.0)\n",
      "Requirement already satisfied: scikit-image in /opt/conda/lib/python3.7/site-packages (0.19.2)\n",
      "Requirement already satisfied: trimesh in /opt/conda/lib/python3.7/site-packages (3.10.7)\n",
      "Requirement already satisfied: pyparsing~=2.0 in /opt/conda/lib/python3.7/site-packages (from pyhocon) (2.4.7)\n",
      "Requirement already satisfied: tenacity>=6.2.0 in /opt/conda/lib/python3.7/site-packages (from plotly) (8.0.1)\n",
      "Requirement already satisfied: six in /opt/conda/lib/python3.7/site-packages (from plotly) (1.16.0)\n",
      "Requirement already satisfied: networkx>=2.2 in /opt/conda/lib/python3.7/site-packages (from scikit-image) (2.7.1)\n",
      "Requirement already satisfied: packaging>=20.0 in /opt/conda/lib/python3.7/site-packages (from scikit-image) (21.3)\n",
      "Requirement already satisfied: PyWavelets>=1.1.1 in /opt/conda/lib/python3.7/site-packages (from scikit-image) (1.3.0)\n",
      "Requirement already satisfied: tifffile>=2019.7.26 in /opt/conda/lib/python3.7/site-packages (from scikit-image) (2021.11.2)\n",
      "Requirement already satisfied: pillow!=7.1.0,!=7.1.1,!=8.3.0,>=6.1.0 in /opt/conda/lib/python3.7/site-packages (from scikit-image) (9.0.1)\n",
      "Requirement already satisfied: imageio>=2.4.1 in /opt/conda/lib/python3.7/site-packages (from scikit-image) (2.16.1)\n",
      "Requirement already satisfied: scipy>=1.4.1 in /opt/conda/lib/python3.7/site-packages (from scikit-image) (1.7.3)\n"
     ]
    }
   ],
   "source": [
    "!pip install numpy pyhocon plotly scikit-image trimesh"
   ]
  },
  {
   "cell_type": "code",
   "execution_count": null,
   "id": "32f5840c-3a3c-4287-a26b-456ce805e9b2",
   "metadata": {},
   "outputs": [],
   "source": [
    "#!git clone --recurse-submodules https://github.com/amosgropp/IGR.git"
   ]
  },
  {
   "cell_type": "code",
   "execution_count": null,
   "id": "95bf86dc-e90d-4fde-bc14-7265bff47646",
   "metadata": {},
   "outputs": [],
   "source": [
    "#!unzip heads_flame.zip"
   ]
  },
  {
   "cell_type": "code",
   "execution_count": null,
   "id": "90decd2c-aaa9-48fc-8d8c-6705530edfb4",
   "metadata": {},
   "outputs": [
    {
     "name": "stdout",
     "output_type": "stream",
     "text": [
      "Requirement already satisfied: torch==1.2.0 in /opt/conda/lib/python3.7/site-packages (1.2.0)\n",
      "Requirement already satisfied: numpy in /opt/conda/lib/python3.7/site-packages (from torch==1.2.0) (1.21.5)\n"
     ]
    }
   ],
   "source": [
    "!pip install torch==1.2.0"
   ]
  },
  {
   "cell_type": "code",
   "execution_count": null,
   "id": "d879e330-a557-457e-9fd3-d1d5e35959d0",
   "metadata": {},
   "outputs": [
    {
     "name": "stdout",
     "output_type": "stream",
     "text": [
      "running\n",
      "starting preprocessing train mode\n",
      "ds :flame , a:0\n",
      "cat heads : b0\n",
      "item heads : c0\n",
      "/home/jupyter/preprocess_data/dfaust_processed/flame/heads/fem_sample0\n",
      "loading : /home/jupyter/scans/flame/heads/fem_sample0\n",
      "item heads : c1\n",
      "/home/jupyter/preprocess_data/dfaust_processed/flame/heads/fem_sample4\n",
      "loading : /home/jupyter/scans/flame/heads/fem_sample4\n",
      "item heads : c2\n",
      "/home/jupyter/preprocess_data/dfaust_processed/flame/heads/male_sample25\n",
      "loading : /home/jupyter/scans/flame/heads/male_sample25\n",
      "item heads : c3\n",
      "/home/jupyter/preprocess_data/dfaust_processed/flame/heads/fem_sample1\n",
      "loading : /home/jupyter/scans/flame/heads/fem_sample1\n",
      "item heads : c4\n",
      "/home/jupyter/preprocess_data/dfaust_processed/flame/heads/fem_sample40\n",
      "loading : /home/jupyter/scans/flame/heads/fem_sample40\n",
      "item heads : c5\n",
      "/home/jupyter/preprocess_data/dfaust_processed/flame/heads/male_sample250\n",
      "loading : /home/jupyter/scans/flame/heads/male_sample250\n",
      "item heads : c6\n",
      "/home/jupyter/preprocess_data/dfaust_processed/flame/heads/fem_sample10\n",
      "loading : /home/jupyter/scans/flame/heads/fem_sample10\n",
      "item heads : c7\n",
      "/home/jupyter/preprocess_data/dfaust_processed/flame/heads/fem_sample400\n",
      "loading : /home/jupyter/scans/flame/heads/fem_sample400\n",
      "item heads : c8\n",
      "/home/jupyter/preprocess_data/dfaust_processed/flame/heads/male_sample2500\n",
      "loading : /home/jupyter/scans/flame/heads/male_sample2500\n",
      "item heads : c9\n",
      "/home/jupyter/preprocess_data/dfaust_processed/flame/heads/fem_sample100\n",
      "loading : /home/jupyter/scans/flame/heads/fem_sample100\n",
      "item heads : c10\n",
      "/home/jupyter/preprocess_data/dfaust_processed/flame/heads/fem_sample4000\n",
      "loading : /home/jupyter/scans/flame/heads/fem_sample4000\n",
      "^C\n",
      "Traceback (most recent call last):\n",
      "  File \"/home/jupyter/IGR/code/preprocess/dfaust.py\", line 89, in <module>\n",
      "    sample = sample_surface(mesh,SAMPLES)\n",
      "  File \"/opt/conda/lib/python3.7/site-packages/trimesh/sample.py\", line 69, in sample_surface\n",
      "    random_test = random_lengths.sum(axis=1).reshape(-1) > 1.0\n",
      "  File \"/opt/conda/lib/python3.7/site-packages/numpy/core/_methods.py\", line 48, in _sum\n",
      "    return umr_sum(a, axis, dtype, out, keepdims, initial, where)\n",
      "KeyboardInterrupt\n"
     ]
    }
   ],
   "source": [
    "!python /home/jupyter/IGR/code/preprocess/dfaust.py --src-path /home/jupyter --out-path /home/jupyter/preprocess_data --mode 0"
   ]
  }
 ],
 "metadata": {
  "environment": {
   "kernel": "python3",
   "name": "common-cu110.m91",
   "type": "gcloud",
   "uri": "gcr.io/deeplearning-platform-release/base-cu110:m91"
  },
  "kernelspec": {
   "display_name": "Python 3",
   "language": "python",
   "name": "python3"
  },
  "language_info": {
   "codemirror_mode": {
    "name": "ipython",
    "version": 3
   },
   "file_extension": ".py",
   "mimetype": "text/x-python",
   "name": "python",
   "nbconvert_exporter": "python",
   "pygments_lexer": "ipython3",
   "version": "3.7.12"
  }
 },
 "nbformat": 4,
 "nbformat_minor": 5
}
